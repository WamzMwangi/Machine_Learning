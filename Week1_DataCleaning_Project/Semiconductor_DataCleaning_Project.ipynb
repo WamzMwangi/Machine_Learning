{
 "cells": [
  {
   "cell_type": "code",
   "execution_count": 1,
   "id": "da83d9b9-b3ea-45a5-aaa2-dc2bc1cba8e1",
   "metadata": {},
   "outputs": [],
   "source": [
    "#import all necessary libraries\n",
    "import pandas as pd\n",
    "import numpy as np\n",
    "import seaborn as sns\n",
    "import matplotlib.pyplot as plt"
   ]
  },
  {
   "cell_type": "code",
   "execution_count": 2,
   "id": "b4f81241-110f-41c9-bcdc-f5f9761caf0e",
   "metadata": {},
   "outputs": [],
   "source": [
    "#read the data from drive\n",
    "data=pd.read_csv(r\"E:\\School_DataSets\\chip_dataset.csv\")\n"
   ]
  },
  {
   "cell_type": "code",
   "execution_count": 3,
   "id": "94b8a63b-22e3-4e29-8a3b-d99ccc28d738",
   "metadata": {},
   "outputs": [
    {
     "data": {
      "text/html": [
       "<div>\n",
       "<style scoped>\n",
       "    .dataframe tbody tr th:only-of-type {\n",
       "        vertical-align: middle;\n",
       "    }\n",
       "\n",
       "    .dataframe tbody tr th {\n",
       "        vertical-align: top;\n",
       "    }\n",
       "\n",
       "    .dataframe thead th {\n",
       "        text-align: right;\n",
       "    }\n",
       "</style>\n",
       "<table border=\"1\" class=\"dataframe\">\n",
       "  <thead>\n",
       "    <tr style=\"text-align: right;\">\n",
       "      <th></th>\n",
       "      <th>Product</th>\n",
       "      <th>Type</th>\n",
       "      <th>Release Date</th>\n",
       "      <th>Process Size (nm)</th>\n",
       "      <th>TDP (W)</th>\n",
       "      <th>Die Size (mm^2)</th>\n",
       "      <th>Transistors (million)</th>\n",
       "      <th>Freq (GHz)</th>\n",
       "      <th>Foundry</th>\n",
       "      <th>Vendor</th>\n",
       "      <th>FP16 GFLOPS</th>\n",
       "      <th>FP32 GFLOPS</th>\n",
       "      <th>FP64 GFLOPS</th>\n",
       "    </tr>\n",
       "  </thead>\n",
       "  <tbody>\n",
       "    <tr>\n",
       "      <th>0</th>\n",
       "      <td>AMD Athlon 1000</td>\n",
       "      <td>CPU</td>\n",
       "      <td>6/5/00</td>\n",
       "      <td>180</td>\n",
       "      <td>54</td>\n",
       "      <td>120</td>\n",
       "      <td>37</td>\n",
       "      <td>1000.0</td>\n",
       "      <td>NaN</td>\n",
       "      <td>AMD</td>\n",
       "      <td>NaN</td>\n",
       "      <td>NaN</td>\n",
       "      <td>NaN</td>\n",
       "    </tr>\n",
       "    <tr>\n",
       "      <th>1</th>\n",
       "      <td>AMD Athlon 1000</td>\n",
       "      <td>CPU</td>\n",
       "      <td>10/31/00</td>\n",
       "      <td>180</td>\n",
       "      <td>54</td>\n",
       "      <td>120</td>\n",
       "      <td>37</td>\n",
       "      <td>1000.0</td>\n",
       "      <td>NaN</td>\n",
       "      <td>AMD</td>\n",
       "      <td>NaN</td>\n",
       "      <td>NaN</td>\n",
       "      <td>NaN</td>\n",
       "    </tr>\n",
       "    <tr>\n",
       "      <th>2</th>\n",
       "      <td>AMD Athlon 1100</td>\n",
       "      <td>CPU</td>\n",
       "      <td>8/14/00</td>\n",
       "      <td>180</td>\n",
       "      <td>60</td>\n",
       "      <td>120</td>\n",
       "      <td>37</td>\n",
       "      <td>1100.0</td>\n",
       "      <td>NaN</td>\n",
       "      <td>AMD</td>\n",
       "      <td>NaN</td>\n",
       "      <td>NaN</td>\n",
       "      <td>NaN</td>\n",
       "    </tr>\n",
       "    <tr>\n",
       "      <th>3</th>\n",
       "      <td>AMD Athlon 1133</td>\n",
       "      <td>CPU</td>\n",
       "      <td>10/31/00</td>\n",
       "      <td>180</td>\n",
       "      <td>63</td>\n",
       "      <td>120</td>\n",
       "      <td>37</td>\n",
       "      <td>1133.0</td>\n",
       "      <td>NaN</td>\n",
       "      <td>AMD</td>\n",
       "      <td>NaN</td>\n",
       "      <td>NaN</td>\n",
       "      <td>NaN</td>\n",
       "    </tr>\n",
       "    <tr>\n",
       "      <th>4</th>\n",
       "      <td>AMD Athlon 1200</td>\n",
       "      <td>CPU</td>\n",
       "      <td>10/31/00</td>\n",
       "      <td>180</td>\n",
       "      <td>66</td>\n",
       "      <td>120</td>\n",
       "      <td>37</td>\n",
       "      <td>1200.0</td>\n",
       "      <td>NaN</td>\n",
       "      <td>AMD</td>\n",
       "      <td>NaN</td>\n",
       "      <td>NaN</td>\n",
       "      <td>NaN</td>\n",
       "    </tr>\n",
       "    <tr>\n",
       "      <th>...</th>\n",
       "      <td>...</td>\n",
       "      <td>...</td>\n",
       "      <td>...</td>\n",
       "      <td>...</td>\n",
       "      <td>...</td>\n",
       "      <td>...</td>\n",
       "      <td>...</td>\n",
       "      <td>...</td>\n",
       "      <td>...</td>\n",
       "      <td>...</td>\n",
       "      <td>...</td>\n",
       "      <td>...</td>\n",
       "      <td>...</td>\n",
       "    </tr>\n",
       "    <tr>\n",
       "      <th>4940</th>\n",
       "      <td>NVIDIA GeForce RTX 3050 6 GB</td>\n",
       "      <td>GPU</td>\n",
       "      <td>NaN</td>\n",
       "      <td>8</td>\n",
       "      <td>80</td>\n",
       "      <td>200</td>\n",
       "      <td>8700</td>\n",
       "      <td>1042.0</td>\n",
       "      <td>Samsung</td>\n",
       "      <td>NVIDIA</td>\n",
       "      <td>6021.0</td>\n",
       "      <td>6021.0</td>\n",
       "      <td>94.08</td>\n",
       "    </tr>\n",
       "    <tr>\n",
       "      <th>4941</th>\n",
       "      <td>NVIDIA GeForce RTX 4070 SUPER</td>\n",
       "      <td>GPU</td>\n",
       "      <td>1/8/24</td>\n",
       "      <td>5</td>\n",
       "      <td>220</td>\n",
       "      <td>294</td>\n",
       "      <td>35800</td>\n",
       "      <td>1980.0</td>\n",
       "      <td>TSMC</td>\n",
       "      <td>NVIDIA</td>\n",
       "      <td>35480.0</td>\n",
       "      <td>35480.0</td>\n",
       "      <td>554.40</td>\n",
       "    </tr>\n",
       "    <tr>\n",
       "      <th>4942</th>\n",
       "      <td>NVIDIA GeForce RTX 4070 Ti SUPER</td>\n",
       "      <td>GPU</td>\n",
       "      <td>1/8/24</td>\n",
       "      <td>5</td>\n",
       "      <td>285</td>\n",
       "      <td>379</td>\n",
       "      <td>45900</td>\n",
       "      <td>2340.0</td>\n",
       "      <td>TSMC</td>\n",
       "      <td>NVIDIA</td>\n",
       "      <td>44100.0</td>\n",
       "      <td>44100.0</td>\n",
       "      <td>689.00</td>\n",
       "    </tr>\n",
       "    <tr>\n",
       "      <th>4943</th>\n",
       "      <td>NVIDIA GeForce RTX 4080 SUPER</td>\n",
       "      <td>GPU</td>\n",
       "      <td>1/8/24</td>\n",
       "      <td>5</td>\n",
       "      <td>320</td>\n",
       "      <td>379</td>\n",
       "      <td>45900</td>\n",
       "      <td>2295.0</td>\n",
       "      <td>TSMC</td>\n",
       "      <td>NVIDIA</td>\n",
       "      <td>52220.0</td>\n",
       "      <td>52220.0</td>\n",
       "      <td>816.00</td>\n",
       "    </tr>\n",
       "    <tr>\n",
       "      <th>4944</th>\n",
       "      <td>NVIDIA RTX 5880 Ada Generation</td>\n",
       "      <td>GPU</td>\n",
       "      <td>1/5/24</td>\n",
       "      <td>5</td>\n",
       "      <td>285</td>\n",
       "      <td>609</td>\n",
       "      <td>76300</td>\n",
       "      <td>1155.0</td>\n",
       "      <td>TSMC</td>\n",
       "      <td>NVIDIA</td>\n",
       "      <td>71810.0</td>\n",
       "      <td>71810.0</td>\n",
       "      <td>1122.00</td>\n",
       "    </tr>\n",
       "  </tbody>\n",
       "</table>\n",
       "<p>4945 rows × 13 columns</p>\n",
       "</div>"
      ],
      "text/plain": [
       "                               Product Type Release Date Process Size (nm)  \\\n",
       "0                      AMD Athlon 1000  CPU       6/5/00               180   \n",
       "1                      AMD Athlon 1000  CPU     10/31/00               180   \n",
       "2                      AMD Athlon 1100  CPU      8/14/00               180   \n",
       "3                      AMD Athlon 1133  CPU     10/31/00               180   \n",
       "4                      AMD Athlon 1200  CPU     10/31/00               180   \n",
       "...                                ...  ...          ...               ...   \n",
       "4940      NVIDIA GeForce RTX 3050 6 GB  GPU          NaN                 8   \n",
       "4941     NVIDIA GeForce RTX 4070 SUPER  GPU       1/8/24                 5   \n",
       "4942  NVIDIA GeForce RTX 4070 Ti SUPER  GPU       1/8/24                 5   \n",
       "4943     NVIDIA GeForce RTX 4080 SUPER  GPU       1/8/24                 5   \n",
       "4944    NVIDIA RTX 5880 Ada Generation  GPU       1/5/24                 5   \n",
       "\n",
       "     TDP (W) Die Size (mm^2) Transistors (million)  Freq (GHz)  Foundry  \\\n",
       "0         54             120                    37      1000.0      NaN   \n",
       "1         54             120                    37      1000.0      NaN   \n",
       "2         60             120                    37      1100.0      NaN   \n",
       "3         63             120                    37      1133.0      NaN   \n",
       "4         66             120                    37      1200.0      NaN   \n",
       "...      ...             ...                   ...         ...      ...   \n",
       "4940      80             200                  8700      1042.0  Samsung   \n",
       "4941     220             294                 35800      1980.0     TSMC   \n",
       "4942     285             379                 45900      2340.0     TSMC   \n",
       "4943     320             379                 45900      2295.0     TSMC   \n",
       "4944     285             609                 76300      1155.0     TSMC   \n",
       "\n",
       "      Vendor  FP16 GFLOPS  FP32 GFLOPS  FP64 GFLOPS  \n",
       "0        AMD          NaN          NaN          NaN  \n",
       "1        AMD          NaN          NaN          NaN  \n",
       "2        AMD          NaN          NaN          NaN  \n",
       "3        AMD          NaN          NaN          NaN  \n",
       "4        AMD          NaN          NaN          NaN  \n",
       "...      ...          ...          ...          ...  \n",
       "4940  NVIDIA       6021.0       6021.0        94.08  \n",
       "4941  NVIDIA      35480.0      35480.0       554.40  \n",
       "4942  NVIDIA      44100.0      44100.0       689.00  \n",
       "4943  NVIDIA      52220.0      52220.0       816.00  \n",
       "4944  NVIDIA      71810.0      71810.0      1122.00  \n",
       "\n",
       "[4945 rows x 13 columns]"
      ]
     },
     "execution_count": 3,
     "metadata": {},
     "output_type": "execute_result"
    }
   ],
   "source": [
    "data"
   ]
  },
  {
   "cell_type": "code",
   "execution_count": 4,
   "id": "dc3732b8-c627-4bf8-965c-566fa89939bd",
   "metadata": {},
   "outputs": [
    {
     "data": {
      "text/html": [
       "<div>\n",
       "<style scoped>\n",
       "    .dataframe tbody tr th:only-of-type {\n",
       "        vertical-align: middle;\n",
       "    }\n",
       "\n",
       "    .dataframe tbody tr th {\n",
       "        vertical-align: top;\n",
       "    }\n",
       "\n",
       "    .dataframe thead th {\n",
       "        text-align: right;\n",
       "    }\n",
       "</style>\n",
       "<table border=\"1\" class=\"dataframe\">\n",
       "  <thead>\n",
       "    <tr style=\"text-align: right;\">\n",
       "      <th></th>\n",
       "      <th>Product</th>\n",
       "      <th>Type</th>\n",
       "      <th>Release Date</th>\n",
       "      <th>Process Size (nm)</th>\n",
       "      <th>TDP (W)</th>\n",
       "      <th>Die Size (mm^2)</th>\n",
       "      <th>Transistors (million)</th>\n",
       "      <th>Freq (GHz)</th>\n",
       "      <th>Foundry</th>\n",
       "      <th>Vendor</th>\n",
       "      <th>FP16 GFLOPS</th>\n",
       "      <th>FP32 GFLOPS</th>\n",
       "      <th>FP64 GFLOPS</th>\n",
       "    </tr>\n",
       "  </thead>\n",
       "  <tbody>\n",
       "    <tr>\n",
       "      <th>4940</th>\n",
       "      <td>NVIDIA GeForce RTX 3050 6 GB</td>\n",
       "      <td>GPU</td>\n",
       "      <td>NaN</td>\n",
       "      <td>8</td>\n",
       "      <td>80</td>\n",
       "      <td>200</td>\n",
       "      <td>8700</td>\n",
       "      <td>1042.0</td>\n",
       "      <td>Samsung</td>\n",
       "      <td>NVIDIA</td>\n",
       "      <td>6021.0</td>\n",
       "      <td>6021.0</td>\n",
       "      <td>94.08</td>\n",
       "    </tr>\n",
       "    <tr>\n",
       "      <th>4941</th>\n",
       "      <td>NVIDIA GeForce RTX 4070 SUPER</td>\n",
       "      <td>GPU</td>\n",
       "      <td>1/8/24</td>\n",
       "      <td>5</td>\n",
       "      <td>220</td>\n",
       "      <td>294</td>\n",
       "      <td>35800</td>\n",
       "      <td>1980.0</td>\n",
       "      <td>TSMC</td>\n",
       "      <td>NVIDIA</td>\n",
       "      <td>35480.0</td>\n",
       "      <td>35480.0</td>\n",
       "      <td>554.40</td>\n",
       "    </tr>\n",
       "    <tr>\n",
       "      <th>4942</th>\n",
       "      <td>NVIDIA GeForce RTX 4070 Ti SUPER</td>\n",
       "      <td>GPU</td>\n",
       "      <td>1/8/24</td>\n",
       "      <td>5</td>\n",
       "      <td>285</td>\n",
       "      <td>379</td>\n",
       "      <td>45900</td>\n",
       "      <td>2340.0</td>\n",
       "      <td>TSMC</td>\n",
       "      <td>NVIDIA</td>\n",
       "      <td>44100.0</td>\n",
       "      <td>44100.0</td>\n",
       "      <td>689.00</td>\n",
       "    </tr>\n",
       "    <tr>\n",
       "      <th>4943</th>\n",
       "      <td>NVIDIA GeForce RTX 4080 SUPER</td>\n",
       "      <td>GPU</td>\n",
       "      <td>1/8/24</td>\n",
       "      <td>5</td>\n",
       "      <td>320</td>\n",
       "      <td>379</td>\n",
       "      <td>45900</td>\n",
       "      <td>2295.0</td>\n",
       "      <td>TSMC</td>\n",
       "      <td>NVIDIA</td>\n",
       "      <td>52220.0</td>\n",
       "      <td>52220.0</td>\n",
       "      <td>816.00</td>\n",
       "    </tr>\n",
       "    <tr>\n",
       "      <th>4944</th>\n",
       "      <td>NVIDIA RTX 5880 Ada Generation</td>\n",
       "      <td>GPU</td>\n",
       "      <td>1/5/24</td>\n",
       "      <td>5</td>\n",
       "      <td>285</td>\n",
       "      <td>609</td>\n",
       "      <td>76300</td>\n",
       "      <td>1155.0</td>\n",
       "      <td>TSMC</td>\n",
       "      <td>NVIDIA</td>\n",
       "      <td>71810.0</td>\n",
       "      <td>71810.0</td>\n",
       "      <td>1122.00</td>\n",
       "    </tr>\n",
       "  </tbody>\n",
       "</table>\n",
       "</div>"
      ],
      "text/plain": [
       "                               Product Type Release Date Process Size (nm)  \\\n",
       "4940      NVIDIA GeForce RTX 3050 6 GB  GPU          NaN                 8   \n",
       "4941     NVIDIA GeForce RTX 4070 SUPER  GPU       1/8/24                 5   \n",
       "4942  NVIDIA GeForce RTX 4070 Ti SUPER  GPU       1/8/24                 5   \n",
       "4943     NVIDIA GeForce RTX 4080 SUPER  GPU       1/8/24                 5   \n",
       "4944    NVIDIA RTX 5880 Ada Generation  GPU       1/5/24                 5   \n",
       "\n",
       "     TDP (W) Die Size (mm^2) Transistors (million)  Freq (GHz)  Foundry  \\\n",
       "4940      80             200                  8700      1042.0  Samsung   \n",
       "4941     220             294                 35800      1980.0     TSMC   \n",
       "4942     285             379                 45900      2340.0     TSMC   \n",
       "4943     320             379                 45900      2295.0     TSMC   \n",
       "4944     285             609                 76300      1155.0     TSMC   \n",
       "\n",
       "      Vendor  FP16 GFLOPS  FP32 GFLOPS  FP64 GFLOPS  \n",
       "4940  NVIDIA       6021.0       6021.0        94.08  \n",
       "4941  NVIDIA      35480.0      35480.0       554.40  \n",
       "4942  NVIDIA      44100.0      44100.0       689.00  \n",
       "4943  NVIDIA      52220.0      52220.0       816.00  \n",
       "4944  NVIDIA      71810.0      71810.0      1122.00  "
      ]
     },
     "execution_count": 4,
     "metadata": {},
     "output_type": "execute_result"
    }
   ],
   "source": [
    "data.tail()"
   ]
  },
  {
   "cell_type": "markdown",
   "id": "d90fc237-5f06-4d79-908b-e3f083b6fc8e",
   "metadata": {},
   "source": [
    "## Explore the missingness in the dataset for categorical and numerical data\n"
   ]
  },
  {
   "cell_type": "code",
   "execution_count": 5,
   "id": "2402cc20-d4bd-4d02-9215-086e8346b4d1",
   "metadata": {},
   "outputs": [
    {
     "name": "stdout",
     "output_type": "stream",
     "text": [
      "<class 'pandas.core.frame.DataFrame'>\n",
      "RangeIndex: 4945 entries, 0 to 4944\n",
      "Data columns (total 13 columns):\n",
      " #   Column                 Non-Null Count  Dtype  \n",
      "---  ------                 --------------  -----  \n",
      " 0   Product                4945 non-null   object \n",
      " 1   Type                   4945 non-null   object \n",
      " 2   Release Date           4746 non-null   object \n",
      " 3   Process Size (nm)      4945 non-null   object \n",
      " 4   TDP (W)                4508 non-null   object \n",
      " 5   Die Size (mm^2)        4593 non-null   object \n",
      " 6   Transistors (million)  4390 non-null   object \n",
      " 7   Freq (GHz)             4508 non-null   float64\n",
      " 8   Foundry                4330 non-null   object \n",
      " 9   Vendor                 4945 non-null   object \n",
      " 10  FP16 GFLOPS            800 non-null    float64\n",
      " 11  FP32 GFLOPS            1685 non-null   float64\n",
      " 12  FP64 GFLOPS            1278 non-null   float64\n",
      "dtypes: float64(4), object(9)\n",
      "memory usage: 502.4+ KB\n"
     ]
    }
   ],
   "source": [
    "#Exploring missingness with pandas\n",
    "data.info()"
   ]
  },
  {
   "cell_type": "code",
   "execution_count": 6,
   "id": "1baf1433-6b6d-4da8-9aaf-00998ef60637",
   "metadata": {},
   "outputs": [
    {
     "data": {
      "text/plain": [
       "(4945, 13)"
      ]
     },
     "execution_count": 6,
     "metadata": {},
     "output_type": "execute_result"
    }
   ],
   "source": [
    "data.shape"
   ]
  },
  {
   "cell_type": "code",
   "execution_count": 7,
   "id": "0feb9f04-02dc-4c6b-a9d6-e66141ec2023",
   "metadata": {},
   "outputs": [
    {
     "data": {
      "text/plain": [
       "Product                     0\n",
       "Type                        0\n",
       "Release Date              199\n",
       "Process Size (nm)           0\n",
       "TDP (W)                   437\n",
       "Die Size (mm^2)           352\n",
       "Transistors (million)     555\n",
       "Freq (GHz)                437\n",
       "Foundry                   615\n",
       "Vendor                      0\n",
       "FP16 GFLOPS              4145\n",
       "FP32 GFLOPS              3260\n",
       "FP64 GFLOPS              3667\n",
       "dtype: int64"
      ]
     },
     "execution_count": 7,
     "metadata": {},
     "output_type": "execute_result"
    }
   ],
   "source": [
    "data.isnull().sum()"
   ]
  },
  {
   "cell_type": "markdown",
   "id": "a3c44649-973f-41ab-afa5-deac168f1433",
   "metadata": {},
   "source": [
    "##### Several columns have missing values Release Date, TDP, Die size, Transistors, Frequency, Foundry, FP16, FP32, FP64.\n",
    "##### use missingno library to identify any patterns in the data that could explain the missingness"
   ]
  },
  {
   "cell_type": "code",
   "execution_count": 8,
   "id": "3a2d5c19-eeab-4906-b742-4d374cf2589a",
   "metadata": {},
   "outputs": [
    {
     "name": "stdout",
     "output_type": "stream",
     "text": [
      "Requirement already satisfied: missingno in c:\\users\\user\\desktop\\zindua_class_data\\machine_learning_class1\\venv\\lib\\site-packages (0.5.2)\n",
      "Requirement already satisfied: numpy in c:\\users\\user\\desktop\\zindua_class_data\\machine_learning_class1\\venv\\lib\\site-packages (from missingno) (1.26.4)\n",
      "Requirement already satisfied: matplotlib in c:\\users\\user\\desktop\\zindua_class_data\\machine_learning_class1\\venv\\lib\\site-packages (from missingno) (3.8.4)\n",
      "Requirement already satisfied: scipy in c:\\users\\user\\desktop\\zindua_class_data\\machine_learning_class1\\venv\\lib\\site-packages (from missingno) (1.12.0)\n",
      "Requirement already satisfied: seaborn in c:\\users\\user\\desktop\\zindua_class_data\\machine_learning_class1\\venv\\lib\\site-packages (from missingno) (0.13.2)\n",
      "Requirement already satisfied: contourpy>=1.0.1 in c:\\users\\user\\desktop\\zindua_class_data\\machine_learning_class1\\venv\\lib\\site-packages (from matplotlib->missingno) (1.2.1)\n",
      "Requirement already satisfied: cycler>=0.10 in c:\\users\\user\\desktop\\zindua_class_data\\machine_learning_class1\\venv\\lib\\site-packages (from matplotlib->missingno) (0.12.1)\n",
      "Requirement already satisfied: fonttools>=4.22.0 in c:\\users\\user\\desktop\\zindua_class_data\\machine_learning_class1\\venv\\lib\\site-packages (from matplotlib->missingno) (4.51.0)\n",
      "Requirement already satisfied: kiwisolver>=1.3.1 in c:\\users\\user\\desktop\\zindua_class_data\\machine_learning_class1\\venv\\lib\\site-packages (from matplotlib->missingno) (1.4.5)\n",
      "Requirement already satisfied: packaging>=20.0 in c:\\users\\user\\desktop\\zindua_class_data\\machine_learning_class1\\venv\\lib\\site-packages (from matplotlib->missingno) (24.0)\n",
      "Requirement already satisfied: pillow>=8 in c:\\users\\user\\desktop\\zindua_class_data\\machine_learning_class1\\venv\\lib\\site-packages (from matplotlib->missingno) (10.3.0)\n",
      "Requirement already satisfied: pyparsing>=2.3.1 in c:\\users\\user\\desktop\\zindua_class_data\\machine_learning_class1\\venv\\lib\\site-packages (from matplotlib->missingno) (3.1.2)\n",
      "Requirement already satisfied: python-dateutil>=2.7 in c:\\users\\user\\desktop\\zindua_class_data\\machine_learning_class1\\venv\\lib\\site-packages (from matplotlib->missingno) (2.9.0.post0)\n",
      "Requirement already satisfied: pandas>=1.2 in c:\\users\\user\\desktop\\zindua_class_data\\machine_learning_class1\\venv\\lib\\site-packages (from seaborn->missingno) (2.2.1)\n",
      "Requirement already satisfied: pytz>=2020.1 in c:\\users\\user\\desktop\\zindua_class_data\\machine_learning_class1\\venv\\lib\\site-packages (from pandas>=1.2->seaborn->missingno) (2024.1)\n",
      "Requirement already satisfied: tzdata>=2022.7 in c:\\users\\user\\desktop\\zindua_class_data\\machine_learning_class1\\venv\\lib\\site-packages (from pandas>=1.2->seaborn->missingno) (2024.1)\n",
      "Requirement already satisfied: six>=1.5 in c:\\users\\user\\desktop\\zindua_class_data\\machine_learning_class1\\venv\\lib\\site-packages (from python-dateutil>=2.7->matplotlib->missingno) (1.16.0)\n"
     ]
    }
   ],
   "source": [
    "!pip install missingno"
   ]
  },
  {
   "cell_type": "code",
   "execution_count": 9,
   "id": "8d6f16e1-8ff1-40a4-b0ca-92020786dcb0",
   "metadata": {},
   "outputs": [],
   "source": [
    "import missingno as mn"
   ]
  },
  {
   "cell_type": "code",
   "execution_count": 10,
   "id": "61b38714-9109-419b-a528-7869eef762d3",
   "metadata": {},
   "outputs": [
    {
     "data": {
      "text/plain": [
       "<Axes: >"
      ]
     },
     "execution_count": 10,
     "metadata": {},
     "output_type": "execute_result"
    },
    {
     "data": {
      "image/png": "[encoded data removed]",
      "text/plain": [
       "<Figure size 2500x1000 with 2 Axes>"
      ]
     },
     "metadata": {},
     "output_type": "display_data"
    }
   ],
   "source": [
    "mn.matrix(data)"
   ]
  },
  {
   "cell_type": "markdown",
   "id": "6149394e-4f80-4883-9d3d-57aaeece573f",
   "metadata": {},
   "source": [
    "### Q1 :Develop a strategy to deal with the missing values, i.e deletion, imputation by mean or mode etc, whilst providing rationale for your approach.\n"
   ]
  },
  {
   "cell_type": "markdown",
   "id": "4018751f-ca69-433d-8004-3fa6f5e68b0e",
   "metadata": {},
   "source": [
    "#### Step 1, drop unnecessary columns"
   ]
  },
  {
   "cell_type": "code",
   "execution_count": 11,
   "id": "830a619c-0bd0-40e9-b65c-d197c7b53474",
   "metadata": {},
   "outputs": [],
   "source": [
    "#drop the last 3 columns since more that 50% missing data\n",
    "data.drop(['FP16 GFLOPS','FP32 GFLOPS','FP64 GFLOPS'],axis=1,inplace=True)"
   ]
  },
  {
   "cell_type": "code",
   "execution_count": 12,
   "id": "9ed16506-ac07-49cc-88e5-256a5531cd12",
   "metadata": {},
   "outputs": [
    {
     "data": {
      "text/html": [
       "<div>\n",
       "<style scoped>\n",
       "    .dataframe tbody tr th:only-of-type {\n",
       "        vertical-align: middle;\n",
       "    }\n",
       "\n",
       "    .dataframe tbody tr th {\n",
       "        vertical-align: top;\n",
       "    }\n",
       "\n",
       "    .dataframe thead th {\n",
       "        text-align: right;\n",
       "    }\n",
       "</style>\n",
       "<table border=\"1\" class=\"dataframe\">\n",
       "  <thead>\n",
       "    <tr style=\"text-align: right;\">\n",
       "      <th></th>\n",
       "      <th>Product</th>\n",
       "      <th>Type</th>\n",
       "      <th>Release Date</th>\n",
       "      <th>Process Size (nm)</th>\n",
       "      <th>TDP (W)</th>\n",
       "      <th>Die Size (mm^2)</th>\n",
       "      <th>Transistors (million)</th>\n",
       "      <th>Freq (GHz)</th>\n",
       "      <th>Foundry</th>\n",
       "      <th>Vendor</th>\n",
       "    </tr>\n",
       "  </thead>\n",
       "  <tbody>\n",
       "    <tr>\n",
       "      <th>0</th>\n",
       "      <td>AMD Athlon 1000</td>\n",
       "      <td>CPU</td>\n",
       "      <td>6/5/00</td>\n",
       "      <td>180</td>\n",
       "      <td>54</td>\n",
       "      <td>120</td>\n",
       "      <td>37</td>\n",
       "      <td>1000.0</td>\n",
       "      <td>NaN</td>\n",
       "      <td>AMD</td>\n",
       "    </tr>\n",
       "    <tr>\n",
       "      <th>1</th>\n",
       "      <td>AMD Athlon 1000</td>\n",
       "      <td>CPU</td>\n",
       "      <td>10/31/00</td>\n",
       "      <td>180</td>\n",
       "      <td>54</td>\n",
       "      <td>120</td>\n",
       "      <td>37</td>\n",
       "      <td>1000.0</td>\n",
       "      <td>NaN</td>\n",
       "      <td>AMD</td>\n",
       "    </tr>\n",
       "    <tr>\n",
       "      <th>2</th>\n",
       "      <td>AMD Athlon 1100</td>\n",
       "      <td>CPU</td>\n",
       "      <td>8/14/00</td>\n",
       "      <td>180</td>\n",
       "      <td>60</td>\n",
       "      <td>120</td>\n",
       "      <td>37</td>\n",
       "      <td>1100.0</td>\n",
       "      <td>NaN</td>\n",
       "      <td>AMD</td>\n",
       "    </tr>\n",
       "    <tr>\n",
       "      <th>3</th>\n",
       "      <td>AMD Athlon 1133</td>\n",
       "      <td>CPU</td>\n",
       "      <td>10/31/00</td>\n",
       "      <td>180</td>\n",
       "      <td>63</td>\n",
       "      <td>120</td>\n",
       "      <td>37</td>\n",
       "      <td>1133.0</td>\n",
       "      <td>NaN</td>\n",
       "      <td>AMD</td>\n",
       "    </tr>\n",
       "    <tr>\n",
       "      <th>4</th>\n",
       "      <td>AMD Athlon 1200</td>\n",
       "      <td>CPU</td>\n",
       "      <td>10/31/00</td>\n",
       "      <td>180</td>\n",
       "      <td>66</td>\n",
       "      <td>120</td>\n",
       "      <td>37</td>\n",
       "      <td>1200.0</td>\n",
       "      <td>NaN</td>\n",
       "      <td>AMD</td>\n",
       "    </tr>\n",
       "  </tbody>\n",
       "</table>\n",
       "</div>"
      ],
      "text/plain": [
       "           Product Type Release Date Process Size (nm) TDP (W)  \\\n",
       "0  AMD Athlon 1000  CPU       6/5/00               180      54   \n",
       "1  AMD Athlon 1000  CPU     10/31/00               180      54   \n",
       "2  AMD Athlon 1100  CPU      8/14/00               180      60   \n",
       "3  AMD Athlon 1133  CPU     10/31/00               180      63   \n",
       "4  AMD Athlon 1200  CPU     10/31/00               180      66   \n",
       "\n",
       "  Die Size (mm^2) Transistors (million)  Freq (GHz) Foundry Vendor  \n",
       "0             120                    37      1000.0     NaN    AMD  \n",
       "1             120                    37      1000.0     NaN    AMD  \n",
       "2             120                    37      1100.0     NaN    AMD  \n",
       "3             120                    37      1133.0     NaN    AMD  \n",
       "4             120                    37      1200.0     NaN    AMD  "
      ]
     },
     "execution_count": 12,
     "metadata": {},
     "output_type": "execute_result"
    }
   ],
   "source": [
    "data.head()"
   ]
  },
  {
   "cell_type": "markdown",
   "id": "6f319c54-3827-46ba-bfc7-7730550bb879",
   "metadata": {},
   "source": [
    "#### Imputing release date missingness"
   ]
  },
  {
   "cell_type": "code",
   "execution_count": 13,
   "id": "8e5a0968-09aa-4b7a-9c1c-f96af697dcac",
   "metadata": {},
   "outputs": [
    {
     "name": "stderr",
     "output_type": "stream",
     "text": [
      "C:\\Users\\User\\AppData\\Local\\Temp\\ipykernel_1748\\2226359446.py:2: UserWarning: Could not infer format, so each element will be parsed individually, falling back to `dateutil`. To ensure parsing is consistent and as-expected, please specify a format.\n",
      "  data['Release Date'] = pd.to_datetime(data['Release Date'])\n"
     ]
    }
   ],
   "source": [
    "#convert to date time data type\n",
    "data['Release Date'] = pd.to_datetime(data['Release Date'])"
   ]
  },
  {
   "cell_type": "code",
   "execution_count": 14,
   "id": "00931c5c-a52c-4081-9d70-16adbb9d9348",
   "metadata": {},
   "outputs": [
    {
     "name": "stderr",
     "output_type": "stream",
     "text": [
      "C:\\Users\\User\\AppData\\Local\\Temp\\ipykernel_1748\\821078819.py:2: FutureWarning: Series.fillna with 'method' is deprecated and will raise in a future version. Use obj.ffill() or obj.bfill() instead.\n",
      "  data['Release Date'] = data['Release Date'].fillna(method='bfill')\n"
     ]
    }
   ],
   "source": [
    "#use back filling to impute missing release dates\n",
    "data['Release Date'] = data['Release Date'].fillna(method='bfill')"
   ]
  },
  {
   "cell_type": "code",
   "execution_count": 15,
   "id": "2071500e-b102-4994-a3cd-638a753f8ee5",
   "metadata": {},
   "outputs": [
    {
     "data": {
      "text/plain": [
       "Product                    0\n",
       "Type                       0\n",
       "Release Date               0\n",
       "Process Size (nm)          0\n",
       "TDP (W)                  437\n",
       "Die Size (mm^2)          352\n",
       "Transistors (million)    555\n",
       "Freq (GHz)               437\n",
       "Foundry                  615\n",
       "Vendor                     0\n",
       "dtype: int64"
      ]
     },
     "execution_count": 15,
     "metadata": {},
     "output_type": "execute_result"
    }
   ],
   "source": [
    "data.isnull().sum()"
   ]
  },
  {
   "cell_type": "markdown",
   "id": "c192e4de-674b-4d6d-8dac-53fcd6fde63c",
   "metadata": {},
   "source": [
    "## Drop non-consequntial fields\n"
   ]
  },
  {
   "cell_type": "markdown",
   "id": "6cabbf2f-159b-4fee-80a7-72c5b87f4089",
   "metadata": {},
   "source": [
    "## Transform temporal data to their corrrect format (date time)\n"
   ]
  },
  {
   "cell_type": "markdown",
   "id": "c86b0c5f-6812-4104-a890-4af538e60f95",
   "metadata": {},
   "source": [
    "## Perfom a full EDA and demonstrate the validity of the following assumption"
   ]
  },
  {
   "cell_type": "code",
   "execution_count": null,
   "id": "d365a36d-3732-4732-936b-85e6e3bf3da2",
   "metadata": {},
   "outputs": [],
   "source": []
  }
 ],
 "metadata": {
  "kernelspec": {
   "display_name": "Python 3 (ipykernel)",
   "language": "python",
   "name": "python3"
  },
  "language_info": {
   "codemirror_mode": {
    "name": "ipython",
    "version": 3
   },
   "file_extension": ".py",
   "mimetype": "text/x-python",
   "name": "python",
   "nbconvert_exporter": "python",
   "pygments_lexer": "ipython3",
   "version": "3.11.4"
  }
 },
 "nbformat": 4,
 "nbformat_minor": 5
}
