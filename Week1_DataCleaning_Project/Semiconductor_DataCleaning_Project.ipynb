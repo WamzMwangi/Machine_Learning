{
 "cells": [
  {
   "cell_type": "code",
   "execution_count": 3,
   "id": "da83d9b9-b3ea-45a5-aaa2-dc2bc1cba8e1",
   "metadata": {},
   "outputs": [],
   "source": [
    "#import all necessary libraries\n",
    "import pandas as pd\n",
    "import numpy as np\n",
    "import seaborn as sns\n",
    "import matplotlib.pyplot as plt"
   ]
  },
  {
   "cell_type": "code",
   "execution_count": 4,
   "id": "b4f81241-110f-41c9-bcdc-f5f9761caf0e",
   "metadata": {},
   "outputs": [],
   "source": [
    "#read the data from drive\n",
    "data=pd.read_csv(r\"E:\\School_DataSets\\chip_dataset.csv\")\n"
   ]
  },
  {
   "cell_type": "code",
   "execution_count": 5,
   "id": "94b8a63b-22e3-4e29-8a3b-d99ccc28d738",
   "metadata": {},
   "outputs": [
    {
     "data": {
      "text/html": [
       "<div>\n",
       "<style scoped>\n",
       "    .dataframe tbody tr th:only-of-type {\n",
       "        vertical-align: middle;\n",
       "    }\n",
       "\n",
       "    .dataframe tbody tr th {\n",
       "        vertical-align: top;\n",
       "    }\n",
       "\n",
       "    .dataframe thead th {\n",
       "        text-align: right;\n",
       "    }\n",
       "</style>\n",
       "<table border=\"1\" class=\"dataframe\">\n",
       "  <thead>\n",
       "    <tr style=\"text-align: right;\">\n",
       "      <th></th>\n",
       "      <th>Product</th>\n",
       "      <th>Type</th>\n",
       "      <th>Release Date</th>\n",
       "      <th>Process Size (nm)</th>\n",
       "      <th>TDP (W)</th>\n",
       "      <th>Die Size (mm^2)</th>\n",
       "      <th>Transistors (million)</th>\n",
       "      <th>Freq (GHz)</th>\n",
       "      <th>Foundry</th>\n",
       "      <th>Vendor</th>\n",
       "      <th>FP16 GFLOPS</th>\n",
       "      <th>FP32 GFLOPS</th>\n",
       "      <th>FP64 GFLOPS</th>\n",
       "    </tr>\n",
       "  </thead>\n",
       "  <tbody>\n",
       "    <tr>\n",
       "      <th>0</th>\n",
       "      <td>AMD Athlon 1000</td>\n",
       "      <td>CPU</td>\n",
       "      <td>6/5/00</td>\n",
       "      <td>180</td>\n",
       "      <td>54</td>\n",
       "      <td>120</td>\n",
       "      <td>37</td>\n",
       "      <td>1000.0</td>\n",
       "      <td>NaN</td>\n",
       "      <td>AMD</td>\n",
       "      <td>NaN</td>\n",
       "      <td>NaN</td>\n",
       "      <td>NaN</td>\n",
       "    </tr>\n",
       "    <tr>\n",
       "      <th>1</th>\n",
       "      <td>AMD Athlon 1000</td>\n",
       "      <td>CPU</td>\n",
       "      <td>10/31/00</td>\n",
       "      <td>180</td>\n",
       "      <td>54</td>\n",
       "      <td>120</td>\n",
       "      <td>37</td>\n",
       "      <td>1000.0</td>\n",
       "      <td>NaN</td>\n",
       "      <td>AMD</td>\n",
       "      <td>NaN</td>\n",
       "      <td>NaN</td>\n",
       "      <td>NaN</td>\n",
       "    </tr>\n",
       "    <tr>\n",
       "      <th>2</th>\n",
       "      <td>AMD Athlon 1100</td>\n",
       "      <td>CPU</td>\n",
       "      <td>8/14/00</td>\n",
       "      <td>180</td>\n",
       "      <td>60</td>\n",
       "      <td>120</td>\n",
       "      <td>37</td>\n",
       "      <td>1100.0</td>\n",
       "      <td>NaN</td>\n",
       "      <td>AMD</td>\n",
       "      <td>NaN</td>\n",
       "      <td>NaN</td>\n",
       "      <td>NaN</td>\n",
       "    </tr>\n",
       "    <tr>\n",
       "      <th>3</th>\n",
       "      <td>AMD Athlon 1133</td>\n",
       "      <td>CPU</td>\n",
       "      <td>10/31/00</td>\n",
       "      <td>180</td>\n",
       "      <td>63</td>\n",
       "      <td>120</td>\n",
       "      <td>37</td>\n",
       "      <td>1133.0</td>\n",
       "      <td>NaN</td>\n",
       "      <td>AMD</td>\n",
       "      <td>NaN</td>\n",
       "      <td>NaN</td>\n",
       "      <td>NaN</td>\n",
       "    </tr>\n",
       "    <tr>\n",
       "      <th>4</th>\n",
       "      <td>AMD Athlon 1200</td>\n",
       "      <td>CPU</td>\n",
       "      <td>10/31/00</td>\n",
       "      <td>180</td>\n",
       "      <td>66</td>\n",
       "      <td>120</td>\n",
       "      <td>37</td>\n",
       "      <td>1200.0</td>\n",
       "      <td>NaN</td>\n",
       "      <td>AMD</td>\n",
       "      <td>NaN</td>\n",
       "      <td>NaN</td>\n",
       "      <td>NaN</td>\n",
       "    </tr>\n",
       "  </tbody>\n",
       "</table>\n",
       "</div>"
      ],
      "text/plain": [
       "           Product Type Release Date Process Size (nm) TDP (W)  \\\n",
       "0  AMD Athlon 1000  CPU       6/5/00               180      54   \n",
       "1  AMD Athlon 1000  CPU     10/31/00               180      54   \n",
       "2  AMD Athlon 1100  CPU      8/14/00               180      60   \n",
       "3  AMD Athlon 1133  CPU     10/31/00               180      63   \n",
       "4  AMD Athlon 1200  CPU     10/31/00               180      66   \n",
       "\n",
       "  Die Size (mm^2) Transistors (million)  Freq (GHz) Foundry Vendor  \\\n",
       "0             120                    37      1000.0     NaN    AMD   \n",
       "1             120                    37      1000.0     NaN    AMD   \n",
       "2             120                    37      1100.0     NaN    AMD   \n",
       "3             120                    37      1133.0     NaN    AMD   \n",
       "4             120                    37      1200.0     NaN    AMD   \n",
       "\n",
       "   FP16 GFLOPS  FP32 GFLOPS  FP64 GFLOPS  \n",
       "0          NaN          NaN          NaN  \n",
       "1          NaN          NaN          NaN  \n",
       "2          NaN          NaN          NaN  \n",
       "3          NaN          NaN          NaN  \n",
       "4          NaN          NaN          NaN  "
      ]
     },
     "execution_count": 5,
     "metadata": {},
     "output_type": "execute_result"
    }
   ],
   "source": [
    "data.head()"
   ]
  },
  {
   "cell_type": "markdown",
   "id": "d90fc237-5f06-4d79-908b-e3f083b6fc8e",
   "metadata": {},
   "source": [
    "## Explore the missingness in the dataset for categorical and numerical data\n"
   ]
  },
  {
   "cell_type": "code",
   "execution_count": 6,
   "id": "2402cc20-d4bd-4d02-9215-086e8346b4d1",
   "metadata": {},
   "outputs": [
    {
     "name": "stdout",
     "output_type": "stream",
     "text": [
      "<class 'pandas.core.frame.DataFrame'>\n",
      "RangeIndex: 4945 entries, 0 to 4944\n",
      "Data columns (total 13 columns):\n",
      " #   Column                 Non-Null Count  Dtype  \n",
      "---  ------                 --------------  -----  \n",
      " 0   Product                4945 non-null   object \n",
      " 1   Type                   4945 non-null   object \n",
      " 2   Release Date           4746 non-null   object \n",
      " 3   Process Size (nm)      4945 non-null   object \n",
      " 4   TDP (W)                4508 non-null   object \n",
      " 5   Die Size (mm^2)        4593 non-null   object \n",
      " 6   Transistors (million)  4390 non-null   object \n",
      " 7   Freq (GHz)             4508 non-null   float64\n",
      " 8   Foundry                4330 non-null   object \n",
      " 9   Vendor                 4945 non-null   object \n",
      " 10  FP16 GFLOPS            800 non-null    float64\n",
      " 11  FP32 GFLOPS            1685 non-null   float64\n",
      " 12  FP64 GFLOPS            1278 non-null   float64\n",
      "dtypes: float64(4), object(9)\n",
      "memory usage: 502.4+ KB\n"
     ]
    }
   ],
   "source": [
    "#Exploring missingness with pandas\n",
    "data.info()"
   ]
  },
  {
   "cell_type": "code",
   "execution_count": 8,
   "id": "0feb9f04-02dc-4c6b-a9d6-e66141ec2023",
   "metadata": {},
   "outputs": [
    {
     "data": {
      "text/plain": [
       "Product                     0\n",
       "Type                        0\n",
       "Release Date              199\n",
       "Process Size (nm)           0\n",
       "TDP (W)                   437\n",
       "Die Size (mm^2)           352\n",
       "Transistors (million)     555\n",
       "Freq (GHz)                437\n",
       "Foundry                   615\n",
       "Vendor                      0\n",
       "FP16 GFLOPS              4145\n",
       "FP32 GFLOPS              3260\n",
       "FP64 GFLOPS              3667\n",
       "dtype: int64"
      ]
     },
     "execution_count": 8,
     "metadata": {},
     "output_type": "execute_result"
    }
   ],
   "source": [
    "data.isnull().sum()"
   ]
  },
  {
   "cell_type": "markdown",
   "id": "a3c44649-973f-41ab-afa5-deac168f1433",
   "metadata": {},
   "source": [
    "##### Several columns have missing values, use missingno library to identify any patterns in the data that could explain the missingness"
   ]
  },
  {
   "cell_type": "code",
   "execution_count": null,
   "id": "3a2d5c19-eeab-4906-b742-4d374cf2589a",
   "metadata": {},
   "outputs": [],
   "source": [
    "!pip install missing"
   ]
  },
  {
   "cell_type": "markdown",
   "id": "6149394e-4f80-4883-9d3d-57aaeece573f",
   "metadata": {},
   "source": [
    "## Develop a strategy to deal with the missing values, i.e deletion, imputation by mean or mode etc, whilst providing rationale for your approach.\n"
   ]
  },
  {
   "cell_type": "markdown",
   "id": "c192e4de-674b-4d6d-8dac-53fcd6fde63c",
   "metadata": {},
   "source": [
    "## Drop non-consequntial fields\n"
   ]
  },
  {
   "cell_type": "markdown",
   "id": "6cabbf2f-159b-4fee-80a7-72c5b87f4089",
   "metadata": {},
   "source": [
    "## Transform temporal data to their corrrect format (date time)\n"
   ]
  },
  {
   "cell_type": "markdown",
   "id": "c86b0c5f-6812-4104-a890-4af538e60f95",
   "metadata": {},
   "source": [
    "## Perfom a full EDA and demonstrate the validity of the following assumption"
   ]
  }
 ],
 "metadata": {
  "kernelspec": {
   "display_name": "Python 3 (ipykernel)",
   "language": "python",
   "name": "python3"
  },
  "language_info": {
   "codemirror_mode": {
    "name": "ipython",
    "version": 3
   },
   "file_extension": ".py",
   "mimetype": "text/x-python",
   "name": "python",
   "nbconvert_exporter": "python",
   "pygments_lexer": "ipython3",
   "version": "3.11.4"
  }
 },
 "nbformat": 4,
 "nbformat_minor": 5
}
